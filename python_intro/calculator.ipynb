{
 "cells": [
  {
   "cell_type": "code",
   "execution_count": 1,
   "metadata": {},
   "outputs": [
    {
     "name": "stdout",
     "output_type": "stream",
     "text": [
      "Welcome to the calculator\n",
      "You entered: 2 and 1\n",
      "The result is: 3\n",
      "The result is: 1\n",
      "The result is: 2\n",
      "The result is: 2.0\n",
      "The result is: 3\n",
      "The result is: 1\n",
      "Exiting the calculator. Goodbye!\n"
     ]
    }
   ],
   "source": [
    "valid_choices = {\"1\": \"add\", \"2\": \"subtract\", \"3\": \"multiply\", \"4\": \"divide\", \"0\": \"quit\"}\n",
    "\n",
    "def get_user_numbers():\n",
    "    while True:\n",
    "        user_input = input(\"Enter 2 single-digit numbers (e.g., 23): \")\n",
    "        if len(user_input) == 2 and user_input.isdigit():\n",
    "            return int(user_input[0]), int(user_input[1])\n",
    "        print(\"Invalid input. You must enter exactly 2 single-digit numbers.\")\n",
    "\n",
    "def get_user_choice():\n",
    "    while True:\n",
    "        user_choice = input(\"Enter 1 to add, 2 to subtract, 3 to multiply, 4 to divide, or 0 to quit: \")\n",
    "        if user_choice in valid_choices:\n",
    "            return user_choice\n",
    "        print(\"Invalid choice. Please enter a valid option.\")\n",
    "\n",
    "def add_two_numbers(num1, num2):\n",
    "    return num1 + num2\n",
    "\n",
    "def subtract_two_numbers(num1, num2):\n",
    "    return num1 - num2\n",
    "\n",
    "def multiply_two_numbers(num1, num2):\n",
    "    return num1 * num2\n",
    "\n",
    "def divide_two_numbers(num1, num2):\n",
    "    if num2 == 0:\n",
    "        print(\"Cannot divide by zero.\")\n",
    "        return None\n",
    "    return num1 / num2\n",
    "\n",
    "def calculate(choice, num1, num2):\n",
    "    operations = {\n",
    "        \"add\": add_two_numbers,\n",
    "        \"subtract\": subtract_two_numbers,\n",
    "        \"multiply\": multiply_two_numbers,\n",
    "        \"divide\": divide_two_numbers,\n",
    "    }\n",
    "    result = operations[valid_choices[choice]](num1, num2)\n",
    "    if result is not None:\n",
    "        print(f\"The result is: {result}\")\n",
    "\n",
    "def main():\n",
    "    print(\"Welcome to the calculator\")\n",
    "\n",
    "    num1, num2 = get_user_numbers()\n",
    "    print(f\"You entered: {num1} and {num2}\")\n",
    "\n",
    "    while True:\n",
    "        user_choice = get_user_choice()\n",
    "        if user_choice == \"0\":\n",
    "            print(\"Exiting the calculator. Goodbye!\")\n",
    "            break\n",
    "        calculate(user_choice, num1, num2)\n",
    "\n",
    "if __name__ == \"__main__\":\n",
    "    main()"
   ]
  }
 ],
 "metadata": {
  "kernelspec": {
   "display_name": "Python 3",
   "language": "python",
   "name": "python3"
  },
  "language_info": {
   "codemirror_mode": {
    "name": "ipython",
    "version": 3
   },
   "file_extension": ".py",
   "mimetype": "text/x-python",
   "name": "python",
   "nbconvert_exporter": "python",
   "pygments_lexer": "ipython3",
   "version": "3.12.2"
  }
 },
 "nbformat": 4,
 "nbformat_minor": 2
}
